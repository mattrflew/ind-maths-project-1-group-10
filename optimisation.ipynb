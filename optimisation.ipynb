{
 "cells": [
  {
   "cell_type": "markdown",
   "metadata": {},
   "source": [
    "Use optimisation techniques as a way to input a desired final concentration and output an initial concentration, as a opposed to iteratively rerunning code to get a solution"
   ]
  },
  {
   "cell_type": "markdown",
   "metadata": {},
   "source": [
    "## Set Up\n",
    "\n",
    "Essentially, trying to find a root of a function such that\n",
    "\n",
    "$$\n",
    "f(C_0) = \\text{euler method}(C_0) - C_{desired} = 0\n",
    "$$\n",
    "\n",
    "We want to find the root, $C_0$, such that the function, $f(C_0)$, is equal to zero.\n",
    "\n",
    "Can use the scipy module and its root solvers to do this\n"
   ]
  },
  {
   "cell_type": "code",
   "execution_count": 42,
   "metadata": {},
   "outputs": [],
   "source": [
    "import numpy as np\n",
    "import matplotlib.pyplot as plt\n",
    "import math\n",
    "from scipy.optimize import minimize\n",
    "from scipy.optimize import fsolve\n",
    "import functions as f\n",
    "import time"
   ]
  },
  {
   "cell_type": "code",
   "execution_count": 2,
   "metadata": {},
   "outputs": [],
   "source": [
    "Nt_gaps = 10000    # number of timesteps\n",
    "T = 60             # final time \n",
    "\n",
    "Nx_spaces = 1000;   # number of spaces in x\n",
    "L1 = -10; # Distance behind 0 reference point\n",
    "L2 = 25 # Distance in front  0 reference point"
   ]
  },
  {
   "cell_type": "code",
   "execution_count": 27,
   "metadata": {},
   "outputs": [],
   "source": [
    "def run_forward_euler(C0):\n",
    "    # Hard code the parameters here (just testing out the method) \n",
    "    Nt_gaps = 10000    # number of timesteps\n",
    "    T = 60             # final time \n",
    "\n",
    "    Nx_spaces = 100;   # number of spaces in x\n",
    "    L1 = -10; # Distance behind 0 reference point\n",
    "    L2 = 25 # Distance in front  0 reference point\n",
    "    \n",
    "    Cf, _, _ = f.forward_euler(Nt_gaps, Nx_spaces, L1, L2, C0)\n",
    "    return Cf"
   ]
  },
  {
   "cell_type": "code",
   "execution_count": 28,
   "metadata": {},
   "outputs": [],
   "source": [
    "def objective_function(C0, C_desired):\n",
    "    return run_forward_euler(C0) - C_desired"
   ]
  },
  {
   "cell_type": "code",
   "execution_count": 29,
   "metadata": {},
   "outputs": [],
   "source": [
    "C0 = 1e-2 # Initial guess for C0\n",
    "C_desired = 1e-3 # Desired final concentration"
   ]
  },
  {
   "cell_type": "markdown",
   "metadata": {},
   "source": [
    "Set parameters for the optimisation"
   ]
  },
  {
   "cell_type": "code",
   "execution_count": 30,
   "metadata": {},
   "outputs": [],
   "source": [
    "tol = 1e-8  \n",
    "maxits = 100"
   ]
  },
  {
   "cell_type": "markdown",
   "metadata": {},
   "source": [
    "## Using the fsolve method "
   ]
  },
  {
   "cell_type": "code",
   "execution_count": 45,
   "metadata": {},
   "outputs": [
    {
     "name": "stdout",
     "output_type": "stream",
     "text": [
      "Delta x = 0.35\n",
      "Delta t = 0.006\n",
      "C = 0.0049\n",
      "A = 0.0017\n",
      "Delta x = 0.35\n",
      "Delta t = 0.006\n",
      "C = 0.0049\n",
      "A = 0.0017\n",
      "Delta x = 0.35\n",
      "Delta t = 0.006\n",
      "C = 0.0049\n",
      "A = 0.0017\n",
      "Delta x = 0.35\n",
      "Delta t = 0.006\n",
      "C = 0.0049\n",
      "A = 0.0017\n",
      "Delta x = 0.35\n",
      "Delta t = 0.006\n",
      "C = 0.0049\n",
      "A = 0.0017\n",
      "Delta x = 0.35\n",
      "Delta t = 0.006\n",
      "C = 0.0049\n",
      "A = 0.0017\n",
      "Delta x = 0.35\n",
      "Delta t = 0.006\n",
      "C = 0.0049\n",
      "A = 0.0017\n",
      "Delta x = 0.35\n",
      "Delta t = 0.006\n",
      "C = 0.0049\n",
      "A = 0.0017\n",
      "Delta x = 0.35\n",
      "Delta t = 0.006\n",
      "C = 0.0049\n",
      "A = 0.0017\n",
      "Delta x = 0.35\n",
      "Delta t = 0.006\n",
      "C = 0.0049\n",
      "A = 0.0017\n"
     ]
    }
   ],
   "source": [
    "t0 = time.time()\n",
    "C0_optimised, info, ier, msg = fsolve(\n",
    "    objective_function, \n",
    "    C0, \n",
    "    args = (C_desired,), \n",
    "    xtol = tol,\n",
    "    full_output = True,  # Get iteration details\n",
    "    maxfev = maxits  \n",
    ")\n",
    "t1 = time.time()"
   ]
  },
  {
   "cell_type": "code",
   "execution_count": 47,
   "metadata": {},
   "outputs": [
    {
     "name": "stdout",
     "output_type": "stream",
     "text": [
      "The solution converged.\n",
      "Convegerd in 8 iterations\n",
      "Optimisation took 1.1036 s\n"
     ]
    }
   ],
   "source": [
    "print(msg)\n",
    "print(f'Convegerd in {info['nfev']} iterations')\n",
    "print(f'Optimisation took {round(t1-t0, 4)} s')"
   ]
  },
  {
   "cell_type": "code",
   "execution_count": 48,
   "metadata": {},
   "outputs": [
    {
     "data": {
      "text/plain": [
       "0.008434529880077911"
      ]
     },
     "execution_count": 48,
     "metadata": {},
     "output_type": "execute_result"
    }
   ],
   "source": [
    "C0_optimised[0]"
   ]
  },
  {
   "cell_type": "markdown",
   "metadata": {},
   "source": [
    "### Using the root method"
   ]
  },
  {
   "cell_type": "code",
   "execution_count": 34,
   "metadata": {},
   "outputs": [],
   "source": [
    "from scipy.optimize import root"
   ]
  },
  {
   "cell_type": "code",
   "execution_count": 40,
   "metadata": {},
   "outputs": [
    {
     "name": "stdout",
     "output_type": "stream",
     "text": [
      "Delta x = 0.35\n",
      "Delta t = 0.006\n",
      "C = 0.0049\n",
      "A = 0.0017\n",
      "Delta x = 0.35\n",
      "Delta t = 0.006\n",
      "C = 0.0049\n",
      "A = 0.0017\n",
      "Delta x = 0.35\n",
      "Delta t = 0.006\n",
      "C = 0.0049\n",
      "A = 0.0017\n",
      "Delta x = 0.35\n",
      "Delta t = 0.006\n",
      "C = 0.0049\n",
      "A = 0.0017\n",
      "Delta x = 0.35\n",
      "Delta t = 0.006\n",
      "C = 0.0049\n",
      "A = 0.0017\n",
      "Delta x = 0.35\n",
      "Delta t = 0.006\n",
      "C = 0.0049\n",
      "A = 0.0017\n",
      "Delta x = 0.35\n",
      "Delta t = 0.006\n",
      "C = 0.0049\n",
      "A = 0.0017\n",
      "Delta x = 0.35\n",
      "Delta t = 0.006\n",
      "C = 0.0049\n",
      "A = 0.0017\n",
      "Delta x = 0.35\n",
      "Delta t = 0.006\n",
      "C = 0.0049\n",
      "A = 0.0017\n",
      "Delta x = 0.35\n",
      "Delta t = 0.006\n",
      "C = 0.0049\n",
      "A = 0.0017\n"
     ]
    }
   ],
   "source": [
    "t0 = time.time()\n",
    "answer = root(\n",
    "    objective_function, \n",
    "    C0, \n",
    "    args = (C_desired),\n",
    "    method='hybr', #This is the default method for scipy.optimize.root\n",
    "    options={'xtol': tol, 'maxfev': maxits})\n",
    "t1 = time.time()"
   ]
  },
  {
   "cell_type": "code",
   "execution_count": 57,
   "metadata": {},
   "outputs": [],
   "source": [
    "answer\n",
    "\n",
    "C0_optimised_root = answer['x'][0]"
   ]
  },
  {
   "cell_type": "code",
   "execution_count": 58,
   "metadata": {},
   "outputs": [
    {
     "name": "stdout",
     "output_type": "stream",
     "text": [
      "The solution converged.\n",
      "Optimised C0 = 0.008434529880077911\n",
      "Convegerd in 8 iterations\n",
      "Optimisation took 1.1036 s\n"
     ]
    }
   ],
   "source": [
    "print(answer['message'])\n",
    "print(f'Optimised C0 = {C0_optimised_root}')\n",
    "print(f'Convegerd in {answer['nfev']} iterations')\n",
    "print(f'Optimisation took {round(t1-t0, 4)} s')"
   ]
  },
  {
   "cell_type": "markdown",
   "metadata": {},
   "source": [
    "### Comparing the two methods (they are the same)"
   ]
  },
  {
   "cell_type": "code",
   "execution_count": 64,
   "metadata": {},
   "outputs": [
    {
     "data": {
      "text/plain": [
       "0.0"
      ]
     },
     "execution_count": 64,
     "metadata": {},
     "output_type": "execute_result"
    }
   ],
   "source": [
    "C0_optimised[0] - C0_optimised_root"
   ]
  },
  {
   "cell_type": "markdown",
   "metadata": {},
   "source": [
    "### Verify our Method (Plug the $C_0$ optimisation result back into the solver and plot)"
   ]
  },
  {
   "cell_type": "code",
   "execution_count": 61,
   "metadata": {},
   "outputs": [
    {
     "name": "stdout",
     "output_type": "stream",
     "text": [
      "Delta x = 0.35\n",
      "Delta t = 0.006\n",
      "C = 0.0049\n",
      "A = 0.0017\n"
     ]
    }
   ],
   "source": [
    "Nt_gaps = 10000    # number of timesteps\n",
    "T = 60             # final time \n",
    "\n",
    "Nx_spaces = 100;   # number of spaces in x\n",
    "L1 = -10; # Distance behind 0 reference point\n",
    "L2 = 25 # Distance in front  0 reference point\n",
    "\n",
    "Cf, U, x = f.forward_euler(Nt_gaps, Nx_spaces, L1, L2, C0_optimised_root)"
   ]
  },
  {
   "cell_type": "code",
   "execution_count": 63,
   "metadata": {},
   "outputs": [
    {
     "name": "stdout",
     "output_type": "stream",
     "text": [
      "C0 = 0.008434529880077911, Cf = 0.0010000000000000007\n"
     ]
    }
   ],
   "source": [
    "print(f'C0 = {C0_optimised_root}, Cf = {Cf}')"
   ]
  },
  {
   "cell_type": "code",
   "execution_count": 66,
   "metadata": {},
   "outputs": [
    {
     "data": {
      "image/png": "[encoded data removed]",
      "text/plain": [
       "<Figure size 640x480 with 1 Axes>"
      ]
     },
     "metadata": {},
     "output_type": "display_data"
    }
   ],
   "source": [
    "fig, ax = plt.subplots()\n",
    "\n",
    "f.concentration_x_plot(x, U[:,-1], '', ax)\n",
    "\n",
    "plt.show()"
   ]
  },
  {
   "cell_type": "markdown",
   "metadata": {},
   "source": [
    "### Takeaways\n",
    "\n",
    "Since our objective function is quite simple (aside from the euler method itself), the optimisation itself does not take a long time. The limitation is how fast the euler method is. In the other investigations, we saw the the matrix implementation of Forward Euler was significantly faster than Backwards Euler in this regard."
   ]
  }
 ],
 "metadata": {
  "kernelspec": {
   "display_name": "py312",
   "language": "python",
   "name": "python3"
  },
  "language_info": {
   "codemirror_mode": {
    "name": "ipython",
    "version": 3
   },
   "file_extension": ".py",
   "mimetype": "text/x-python",
   "name": "python",
   "nbconvert_exporter": "python",
   "pygments_lexer": "ipython3",
   "version": "3.12.5"
  }
 },
 "nbformat": 4,
 "nbformat_minor": 2
}
