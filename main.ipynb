{
 "cells": [
  {
   "cell_type": "markdown",
   "metadata": {},
   "source": [
    "Imports"
   ]
  },
  {
   "cell_type": "code",
   "execution_count": 3,
   "metadata": {},
   "outputs": [],
   "source": [
    "import numpy as np\n",
    "import matplotlib.pyplot as plt"
   ]
  },
  {
   "cell_type": "markdown",
   "metadata": {},
   "source": [
    "### Method Set Up\n",
    "\n",
    "The project description provides the following hint:\n",
    "\n",
    "<span style=\"color:red;\">\n",
    "\n",
    "*For numerics, you could use something simple such as forward Euler combined with finite difference, but be sure to validate your choice of step size and other parameters.*\n",
    "\n",
    "</span>\n",
    "\n",
    "\n",
    "From this suggestion, we will start exploring the numerical solution with forward Euler.\n",
    "\n",
    "##### Forward Euler Recap (diffusion only)\n",
    "$$\n",
    "\n",
    "U_m^{n + 1} = U_m^{n} + D\\Delta t \\frac{U_{m+1}^{n} - 2U_m^{n} + U_{m-1}^{n}}{(\\Delta x )^2} \\\\ \n",
    "\n",
    "C = \\frac{D\\Delta t}{(\\Delta x )^2} \\\\ \n",
    "\n",
    "\n",
    "U_m^{n + 1} = U_m^{n} + C[{U_{m+1}^{n} - 2U_m^{n} + U_{m-1}^{n}}] \\\\ \n",
    "\n",
    "$$\n",
    "\n",
    "where $C < 0.5$ for stability.\n",
    "\n",
    "\n",
    "Rewrite as matrix formulations (from Lecture Notes)\n",
    "\n",
    "![](docs/forward_euler_matrix_formulation.png)\n",
    "\n",
    "\n",
    "\n",
    "<!-- $\n",
    "  \\frac{U_m^{n + 1} - U_m^n}{\\Delta t} = \\frac{U_{m - 1}^n - 2 U_m^n + U_{m + 1}^n}{(\\Delta x)^2} \\quad \\textrm{ for } m \\in \\left\\{ 1, \\ldots, M - 1 \\right\\}, n \\in \\left\\{ 0, \\ldots, N - 1 \\right\\},\n",
    "$ -->"
   ]
  },
  {
   "cell_type": "markdown",
   "metadata": {},
   "source": [
    "### Problem Set Up\n",
    "\n",
    "#### Intravenous Injection\n",
    "\n",
    "$$\n",
    "\n",
    "C_t = D C_{xx} - v C_x \\\\\n",
    "\n",
    "x \\in (-\\infty, \\infty) \\\\\n",
    "\n",
    "D = 0.1 m^2/s \\\\\n",
    "v = 0.2 m/s \\\\\n",
    "\n",
    "% U_m^{n + 1} = U_m^{n} + D\\Delta t \\frac{U_{m+1}^{n} - 2U_m^{n} + U_{m-1}^{n}}{(\\Delta x )^2} \\\\ \n",
    "$$\n",
    "\n",
    "\n",
    "#### Boundary Conditions\n",
    "\n",
    "Infinite boundary conditions\n",
    "$$\n",
    "\\lim_{x \\to \\infty} C(x, t) = 0 \\\\\n",
    "\n",
    "\\lim_{x \\to -\\infty} C(x, t) = 0 \\\\\n",
    "$$\n",
    "\n",
    "\n",
    "#### Conditions\n",
    "At $t^*=60$ arrive at $h$: \n",
    "\n",
    "$60*0.2 = 12m$"
   ]
  },
  {
   "cell_type": "markdown",
   "metadata": {},
   "source": [
    "Define conditions"
   ]
  },
  {
   "cell_type": "code",
   "execution_count": 6,
   "metadata": {},
   "outputs": [],
   "source": [
    "D = 0.1 # Diffusion coefficient\n",
    "v = 0.2 # Blood flow rate\n",
    "\n",
    "Cf = 1e-3 # Desired final concentration"
   ]
  },
  {
   "cell_type": "code",
   "execution_count": 10,
   "metadata": {},
   "outputs": [],
   "source": [
    "# Our zero dirichlet conditions\n",
    "\n",
    "b0 = 0.0  # u(0,t)= b0\n",
    "bL = 1.0  # u(L,t)= bL"
   ]
  },
  {
   "cell_type": "markdown",
   "metadata": {},
   "source": [
    "#### Initial Concentration\n",
    "let $t^* = t - 5$\n",
    "\n",
    "$$\n",
    "C(x, t^*=0) = \\begin{cases} \n",
    "C_0, &  a \\leq x \\leq a+1 \\\\\n",
    "0,  & \\text{otherwise}\n",
    "\\end{cases}\n",
    "$$\n",
    "\n",
    "\n"
   ]
  },
  {
   "cell_type": "code",
   "execution_count": 14,
   "metadata": {},
   "outputs": [],
   "source": [
    "# def I(x): # initial u(x,0)\n",
    "#     len_x = np.size(x)\n",
    "#     i_x = 2.0 *np.ones(len_x) # the more complicated case\n",
    "#     return i_x\n",
    "\n",
    "def I(x): # initial u(x,0)\n",
    "    return x"
   ]
  },
  {
   "cell_type": "markdown",
   "metadata": {},
   "source": [
    "Solve using loops"
   ]
  },
  {
   "cell_type": "code",
   "execution_count": 15,
   "metadata": {},
   "outputs": [
    {
     "name": "stdout",
     "output_type": "stream",
     "text": [
      "Delta x = 0.01 Delta t =  5e-05 C = 0.05 A= 0.0005\n"
     ]
    }
   ],
   "source": [
    "# Set parameters\n",
    "Nt_gaps = 20000    # number of timesteps\n",
    "T = 1              # final time \n",
    "Nt_points = Nt_gaps + 1\n",
    "t = np.linspace(0.,T,Nt_points)  # times at each time step\n",
    "\n",
    "Nx_spaces = 100;   # number of spaces in x\n",
    "L = 1; \n",
    "Nx_points = Nx_spaces + 1 \n",
    "x = np.linspace(0, L, Nx_points)    # mesh points in space\n",
    "\n",
    "dx = x[1] - x[0] \n",
    "dt = t[1] - t[0]\n",
    "\n",
    "\n",
    "# Check our conditions\n",
    "C = D*dt/(dx**2)\n",
    "A = v*dt/(2*dx)\n",
    "\n",
    "print(\"Delta x =\", dx, \"Delta t = \", dt, \"C =\", C, \"A=\", A)\n"
   ]
  },
  {
   "cell_type": "code",
   "execution_count": 16,
   "metadata": {},
   "outputs": [],
   "source": [
    "# Solve\n",
    "# Define the numerical solution \n",
    "# the first index is space and the second time\n",
    "U = np.zeros((Nx_points,Nt_points))\n",
    "\n",
    "# The initial condition\n",
    "U[:,0] = I(x)\n",
    "\n",
    "# enforce the boundary condition\n",
    "U[0,0]  = b0 \n",
    "U[-1,0] = bL\n",
    "\n",
    "# Old/current values\n",
    "u_old = I(x)\n",
    "\n",
    "# Initialize new matrix\n",
    "u = np.zeros(Nx_points)\n",
    "\n",
    "for n in range(1,Nt_points):\n",
    "    u[0] = b0\n",
    "    u[-1] = bL\n",
    "    \n",
    "    # apply forward Euler on the internal points\n",
    "    for i in range(1, Nx_points-1):\n",
    "        u[i] = u_old[i] + C *(u_old[i-1] - 2*u_old[i] + u_old[i+1]) - A*(u_old[i+1] - u_old[i-1])\n",
    "\n",
    "    # update u_old before next step\n",
    "    u_old[:]= u\n",
    "    # copy into full storage\n",
    "    U[:,n] = u;\n"
   ]
  },
  {
   "cell_type": "code",
   "execution_count": 17,
   "metadata": {},
   "outputs": [
    {
     "data": {
      "text/plain": [
       "(101, 20001)"
      ]
     },
     "execution_count": 17,
     "metadata": {},
     "output_type": "execute_result"
    }
   ],
   "source": [
    "U.shape"
   ]
  },
  {
   "cell_type": "markdown",
   "metadata": {},
   "source": [
    "Solve using matrices"
   ]
  }
 ],
 "metadata": {
  "kernelspec": {
   "display_name": "venv",
   "language": "python",
   "name": "python3"
  },
  "language_info": {
   "codemirror_mode": {
    "name": "ipython",
    "version": 3
   },
   "file_extension": ".py",
   "mimetype": "text/x-python",
   "name": "python",
   "nbconvert_exporter": "python",
   "pygments_lexer": "ipython3",
   "version": "3.12.0"
  }
 },
 "nbformat": 4,
 "nbformat_minor": 2
}
