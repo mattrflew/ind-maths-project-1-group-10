{
 "cells": [
  {
   "cell_type": "markdown",
   "metadata": {},
   "source": [
    "Imports"
   ]
  },
  {
   "cell_type": "code",
   "execution_count": 3,
   "metadata": {},
   "outputs": [],
   "source": [
    "import numpy as np\n",
    "import matplotlib.pyplot as plt"
   ]
  },
  {
   "cell_type": "markdown",
   "metadata": {},
   "source": [
    "### Method Set Up\n",
    "\n",
    "The project description provides the following hint:\n",
    "\n",
    "<span style=\"color:red;\">\n",
    "\n",
    "*For numerics, you could use something simple such as forward Euler combined with finite difference, but be sure to validate your choice of step size and other parameters.*\n",
    "\n",
    "</span>\n",
    "\n",
    "\n",
    "From this suggestion, we will start exploring the numerical solution with forward Euler.\n",
    "\n",
    "##### Forward Euler Recap (diffusion only)\n",
    "$$\n",
    "\n",
    "U_m^{n + 1} = U_m^{n} + D\\Delta t \\frac{U_{m+1}^{n} - 2U_m^{n} + U_{m-1}^{n}}{(\\Delta x )^2} \\\\ \n",
    "\n",
    "C = \\frac{D\\Delta t}{(\\Delta x )^2} \\\\ \n",
    "\n",
    "\n",
    "U_m^{n + 1} = U_m^{n} + C[{U_{m+1}^{n} - 2U_m^{n} + U_{m-1}^{n}}] \\\\ \n",
    "\n",
    "$$\n",
    "\n",
    "where $C < 0.5$ for stability.\n",
    "\n",
    "\n",
    "Rewrite as matrix formulations (from Lecture Notes)\n",
    "\n",
    "![](docs/forward_euler_matrix_formulation.png)\n",
    "\n",
    "\n",
    "\n",
    "<!-- $\n",
    "  \\frac{U_m^{n + 1} - U_m^n}{\\Delta t} = \\frac{U_{m - 1}^n - 2 U_m^n + U_{m + 1}^n}{(\\Delta x)^2} \\quad \\textrm{ for } m \\in \\left\\{ 1, \\ldots, M - 1 \\right\\}, n \\in \\left\\{ 0, \\ldots, N - 1 \\right\\},\n",
    "$ -->"
   ]
  },
  {
   "cell_type": "markdown",
   "metadata": {},
   "source": [
    "### Problem Set Up\n",
    "\n",
    "##### Intravenous Injection\n",
    "\n",
    "$$\n",
    "\n",
    "C_t = D C_{xx} - v C_x \\\\\n",
    "\n",
    "x \\in (-\\infty, \\infty) \\\\\n",
    "\n",
    "D = 0.1 m^2/s \\\\\n",
    "v = 0.2 m/s \\\\\n",
    "\n",
    "% U_m^{n + 1} = U_m^{n} + D\\Delta t \\frac{U_{m+1}^{n} - 2U_m^{n} + U_{m-1}^{n}}{(\\Delta x )^2} \\\\ \n",
    "$$\n",
    "\n"
   ]
  }
 ],
 "metadata": {
  "kernelspec": {
   "display_name": "venv",
   "language": "python",
   "name": "python3"
  },
  "language_info": {
   "codemirror_mode": {
    "name": "ipython",
    "version": 3
   },
   "file_extension": ".py",
   "mimetype": "text/x-python",
   "name": "python",
   "nbconvert_exporter": "python",
   "pygments_lexer": "ipython3",
   "version": "3.12.0"
  }
 },
 "nbformat": 4,
 "nbformat_minor": 2
}
