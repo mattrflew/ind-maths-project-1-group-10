{
 "cells": [
  {
   "cell_type": "markdown",
   "metadata": {},
   "source": [
    "Imports"
   ]
  },
  {
   "cell_type": "code",
   "execution_count": 1,
   "metadata": {},
   "outputs": [],
   "source": [
    "import numpy as np\n",
    "import matplotlib.pyplot as plt\n",
    "\n",
    "import plotly.graph_objects as go\n",
    "import warnings\n",
    "# import matplotlib.animation\n",
    "# %matplotlib inline"
   ]
  },
  {
   "cell_type": "markdown",
   "metadata": {},
   "source": [
    "### Method Set Up\n",
    "\n",
    "The project description provides the following hint:\n",
    "\n",
    "<span style=\"color:red;\">\n",
    "\n",
    "*For numerics, you could use something simple such as forward Euler combined with finite difference, but be sure to validate your choice of step size and other parameters.*\n",
    "\n",
    "</span>\n",
    "\n",
    "\n",
    "From this suggestion, we will start exploring the numerical solution with forward Euler.\n",
    "\n",
    "##### Forward Euler Recap (diffusion only)\n",
    "$$\n",
    "\n",
    "U_m^{n + 1} = U_m^{n} + D\\Delta t \\frac{U_{m+1}^{n} - 2U_m^{n} + U_{m-1}^{n}}{(\\Delta x )^2} \\\\ \n",
    "\n",
    "C = \\frac{D\\Delta t}{(\\Delta x )^2} \\\\ \n",
    "\n",
    "\n",
    "U_m^{n + 1} = U_m^{n} + C[{U_{m+1}^{n} - 2U_m^{n} + U_{m-1}^{n}}] \\\\ \n",
    "\n",
    "$$\n",
    "\n",
    "where $C < 0.5$ for stability.\n",
    "\n",
    "\n",
    "Rewrite as matrix formulations (from Lecture Notes)\n",
    "\n",
    "![](docs/forward_euler_matrix_formulation.png)\n",
    "\n",
    "\n",
    "\n",
    "<!-- $\n",
    "  \\frac{U_m^{n + 1} - U_m^n}{\\Delta t} = \\frac{U_{m - 1}^n - 2 U_m^n + U_{m + 1}^n}{(\\Delta x)^2} \\quad \\textrm{ for } m \\in \\left\\{ 1, \\ldots, M - 1 \\right\\}, n \\in \\left\\{ 0, \\ldots, N - 1 \\right\\},\n",
    "$ -->"
   ]
  },
  {
   "cell_type": "markdown",
   "metadata": {},
   "source": [
    "### Problem Set Up\n",
    "\n",
    "#### Intravenous Injection\n",
    "\n",
    "$$\n",
    "\n",
    "C_t = D C_{xx} - v C_x \\\\\n",
    "\n",
    "x \\in (-\\infty, \\infty) \\\\\n",
    "\n",
    "D = 0.1 m^2/s \\\\\n",
    "v = 0.2 m/s \\\\\n",
    "\n",
    "% U_m^{n + 1} = U_m^{n} + D\\Delta t \\frac{U_{m+1}^{n} - 2U_m^{n} + U_{m-1}^{n}}{(\\Delta x )^2} \\\\ \n",
    "$$\n",
    "\n",
    "\n",
    "#### Boundary Conditions\n",
    "\n",
    "Infinite boundary conditions\n",
    "$$\n",
    "\\lim_{x \\to \\infty} C(x, t) = 0 \\\\\n",
    "\n",
    "\\lim_{x \\to -\\infty} C(x, t) = 0 \\\\\n",
    "$$\n",
    "\n",
    "\n",
    "For the purposes of numerical analysis, we can assume that the x domain exists from $-L$ to $L$ and our injection starts at $x = 0$. Where $-L$ and $L$ are sufficiently far away from $x = 0$ to not provide boundary intereference on our region of interest.\n",
    "\n",
    "We can therefore write the dirichlet conditions as\n",
    "$$\n",
    "u(-L, t) = 0 \\\\\n",
    "u(L, t) = 0 \\\\\n",
    "$$\n",
    "\n",
    "\n",
    "#### Conditions\n",
    "\n",
    "##### Starting, $t = 0$\n",
    "\n",
    "#### Initial Concentration\n",
    "$$\n",
    "C(x, 0) = \\begin{cases} \n",
    "C_0, &  0 \\leq x \\leq 1 \\\\\n",
    "0,  & \\text{otherwise}\n",
    "\\end{cases}\n",
    "$$\n",
    "\n",
    "\n",
    "\n",
    "\n",
    "##### End\n",
    "\n",
    "At $t^*=60$ arrive at $h$: \n",
    "\n",
    "$60*0.2 = 12m$\n",
    "\n",
    "Initial medicine is 1m long, therefore total distance to heart starting from $x=0$ is 13m."
   ]
  },
  {
   "cell_type": "markdown",
   "metadata": {},
   "source": [
    "Define conditions"
   ]
  },
  {
   "cell_type": "code",
   "execution_count": 2,
   "metadata": {},
   "outputs": [],
   "source": [
    "D = 0.1 # Diffusion coefficient\n",
    "v = 0.2 # Blood flow rate\n",
    "\n",
    "Cf_desired = 1e-3 # Desired final concentrations"
   ]
  },
  {
   "cell_type": "markdown",
   "metadata": {},
   "source": [
    "Set parameters"
   ]
  },
  {
   "cell_type": "code",
   "execution_count": 3,
   "metadata": {},
   "outputs": [
    {
     "name": "stdout",
     "output_type": "stream",
     "text": [
      "Delta x = 0.05\n",
      "Delta t = 0.012\n",
      "C = 0.48\n",
      "A = 0.024\n"
     ]
    }
   ],
   "source": [
    "# Time parameters\n",
    "Nt_gaps = 5000    # number of timesteps\n",
    "T = 60             # final time \n",
    "Nt_points = Nt_gaps + 1\n",
    "t = np.linspace(0.,T,Nt_points)  # times at each time step\n",
    "dt = t[1] - t[0]\n",
    "\n",
    "\n",
    "# x parameters\n",
    "Nx_spaces = 1000;   # number of spaces in x\n",
    "L = 25; \n",
    "Nx_points = Nx_spaces + 1 \n",
    "x = np.linspace(-L, L, Nx_points)    # mesh points in space\n",
    "dx = x[1] - x[0]\n",
    "\n",
    "# Check our conditions\n",
    "C = D*dt/(dx**2)\n",
    "A = v*dt/(2*dx)\n",
    "\n",
    "print(f\"Delta x = {round(dx, 4)}\\nDelta t = {round(dt, 4)}\\nC = {round(C, 4)}\\nA = {round(A, 4)}\")\n",
    "\n",
    "\n",
    "if C >= 0.5:\n",
    "    warnings.warn(f'C is greater than 0.5, C = {round(C,4)}')\n",
    "\n",
    "if A > 1:\n",
    "    warnings.warn(f'A is greater than 1, A = {round(A,4)}')\n",
    "\n",
    "# Boundary conditions\n",
    "# dirichlet\n",
    "b0 = 0\n",
    "bL = 0"
   ]
  },
  {
   "cell_type": "markdown",
   "metadata": {},
   "source": [
    "Define initial conditions"
   ]
  },
  {
   "cell_type": "code",
   "execution_count": 4,
   "metadata": {},
   "outputs": [],
   "source": [
    "def I(x, C0): # initial u(x,0)\n",
    "    u = np.zeros_like(x)\n",
    "    \n",
    "    # where x is between 0 and 1, set to C0\n",
    "    u[(x >= 0) & (x <= 1)] = C0\n",
    "    return u\n",
    "\n",
    "# Initial concentration\n",
    "C0 = 1e-2"
   ]
  },
  {
   "cell_type": "markdown",
   "metadata": {},
   "source": [
    "Solve using loops"
   ]
  },
  {
   "cell_type": "code",
   "execution_count": 5,
   "metadata": {},
   "outputs": [],
   "source": [
    "# # Solve\n",
    "# Define the numerical solution \n",
    "# the first index is space and the second time\n",
    "U = np.zeros((Nx_points, Nt_points))\n",
    "\n",
    "# The initial condition\n",
    "U[:,0] = I(x, C0)\n",
    "\n",
    "# Enforce the boundary condition\n",
    "U[0,0]  = b0 \n",
    "U[-1,0] = bL\n",
    "\n",
    "# Old/current values\n",
    "u_old = I(x, C0)\n",
    "\n",
    "# Initialize new matrix\n",
    "u = np.zeros(Nx_points)\n",
    "\n",
    "for n in range(1, Nt_points):\n",
    "    u[0] = b0\n",
    "    u[-1] = bL\n",
    "    \n",
    "    # apply forward Euler on the internal points, diffusion and advection\n",
    "    for i in range(1, Nx_points-1):\n",
    "        u[i] = u_old[i] + C *(u_old[i-1] - 2*u_old[i] + u_old[i+1]) - A*(u_old[i+1] - u_old[i-1])\n",
    "\n",
    "    # update u_old before next step\n",
    "    u_old[:] = u\n",
    "    \n",
    "    # copy into full storage\n",
    "    U[:,n] = u;"
   ]
  },
  {
   "cell_type": "code",
   "execution_count": 6,
   "metadata": {},
   "outputs": [],
   "source": [
    "def concentration_x_plot(x, U, t_str, ax):\n",
    "    heart_loc = 13\n",
    "    index_closest = (np.abs(x - heart_loc)).argmin()\n",
    "    C_heart = U[index_closest]\n",
    "    # print(index_closest)\n",
    "\n",
    "    # Clear axes for next iteration of animation loop\n",
    "    # ax.clear() \n",
    "    \n",
    "    ax.plot(x, U, '.')\n",
    "    \n",
    "    ax.set_xlabel('x')\n",
    "    ax.set_ylabel('concentration')\n",
    "    ax.set_title(t_str)\n",
    "\n",
    "    ax.set_xlim([0,15])\n",
    "    \n",
    "    ax.axvline(x=heart_loc, color='r', linestyle='--')\n",
    "    \n",
    "    ax.axhline(y=C_heart, color='b', linestyle='--', label= f'Cf = {round(C_heart, 4)}')\n",
    "    ax.text(x=12, y=C_heart, s=f'Cf = {round(C_heart, 4)}', color='b', va='bottom', ha='left')\n",
    "    # ax.legend()\n",
    "    "
   ]
  },
  {
   "cell_type": "code",
   "execution_count": 7,
   "metadata": {},
   "outputs": [
    {
     "data": {
      "image/png": "[encoded data removed]",
      "text/plain": [
       "<Figure size 640x480 with 1 Axes>"
      ]
     },
     "metadata": {},
     "output_type": "display_data"
    }
   ],
   "source": [
    "# Plot t = 0 (Initial condition)\n",
    "fig, ax = plt.subplots()\n",
    "concentration_x_plot(x, U[:,0], t_str='$t_{0}$', ax=ax)"
   ]
  },
  {
   "cell_type": "code",
   "execution_count": 8,
   "metadata": {},
   "outputs": [
    {
     "data": {
      "image/png": "[encoded data removed]",
      "text/plain": [
       "<Figure size 640x480 with 1 Axes>"
      ]
     },
     "metadata": {},
     "output_type": "display_data"
    }
   ],
   "source": [
    "# Plot t = end (End of simulation)\n",
    "fig, ax = plt.subplots()\n",
    "concentration_x_plot(x, U[:,-1], t_str='$t_{end}$', ax=ax)"
   ]
  },
  {
   "cell_type": "markdown",
   "metadata": {},
   "source": [
    "Plot a selected amount of t (t = [0, 5, 10, ..., 60])"
   ]
  },
  {
   "cell_type": "code",
   "execution_count": 9,
   "metadata": {},
   "outputs": [
    {
     "data": {
      "image/png": "[encoded data removed]",
      "text/plain": [
       "<Figure size 640x480 with 1 Axes>"
      ]
     },
     "metadata": {},
     "output_type": "display_data"
    }
   ],
   "source": [
    "delta_t = 10\n",
    "t_to_plot = np.arange(0, 60 + delta_t, delta_t)\n",
    "\n",
    "heart_loc = 13\n",
    "index_closest = (np.abs(x - heart_loc)).argmin()\n",
    "C_heart = U[index_closest,-1]\n",
    "\n",
    "\n",
    "fig, ax = plt.subplots()\n",
    "for tt in t_to_plot:\n",
    "    index_closest = (np.abs(t - tt)).argmin()\n",
    "    ax.plot(x, U[:, index_closest], '-', linewidth = 1)\n",
    "    \n",
    "    if tt == 60:\n",
    "        ax.axhline(y=C_heart, color='b', linestyle='--', label= f'Cf = {round(C_heart, 4)}')\n",
    "        ax.text(x=12, y=C_heart, s=f'Cf = {round(C_heart, 4)}', color='b', va='bottom', ha='left')\n",
    "    \n",
    "ax.set_xlabel('x [m]')\n",
    "ax.set_ylabel('Concentration')\n",
    "ax.set_xlim([0,15])\n",
    "\n",
    "ax.axvline(x=heart_loc, color='r', linestyle='--')\n",
    "\n",
    "plt.show()"
   ]
  },
  {
   "cell_type": "markdown",
   "metadata": {},
   "source": [
    "Animation"
   ]
  },
  {
   "cell_type": "code",
   "execution_count": 10,
   "metadata": {},
   "outputs": [],
   "source": [
    "# import matplotlib.animation\n",
    "# %matplotlib inline\n",
    "# from matplotlib.animation import FuncAnimation\n",
    "\n",
    "# def animate(tt):\n",
    "#     concentration_x_plot(x, U[:, tt], t_str=f'$t_{tt}$', ax=ax)"
   ]
  },
  {
   "cell_type": "code",
   "execution_count": 11,
   "metadata": {},
   "outputs": [],
   "source": [
    "# Set up the figure and axis for the animation\n",
    "# fig, ax = plt.subplots()\n",
    "\n",
    "# # Create the animation, calling `animate` at each frame\n",
    "# ani = FuncAnimation(fig, animate, frames=Nt_points, interval=200)  # interval is in milliseconds\n",
    "\n",
    "# # Show the animation\n",
    "# # plt.show()\n",
    "\n",
    "# from IPython.display import HTML\n",
    "# HTML(ani.to_jshtml())       "
   ]
  },
  {
   "cell_type": "markdown",
   "metadata": {},
   "source": [
    "What is the final concentration, $C_f$, at the heart ($x = 13$)?"
   ]
  },
  {
   "cell_type": "code",
   "execution_count": 12,
   "metadata": {},
   "outputs": [
    {
     "name": "stdout",
     "output_type": "stream",
     "text": [
      "Cf = 0.0011936903323755265\n"
     ]
    }
   ],
   "source": [
    "# Do this in case it happened to not go through x = 13 exactly\n",
    "index_closest = (np.abs(x - 13)).argmin()\n",
    "\n",
    "Cf = U[index_closest, -1]\n",
    "\n",
    "print(f'Cf = {Cf}')"
   ]
  },
  {
   "cell_type": "markdown",
   "metadata": {},
   "source": [
    "Plot the results as a 3D surface"
   ]
  },
  {
   "cell_type": "code",
   "execution_count": 13,
   "metadata": {},
   "outputs": [],
   "source": [
    "# # Plotting\n",
    "# fig = plt.figure()\n",
    "# ax = fig.add_subplot(111, projection='3d')\n",
    "\n",
    "# X, T = np.meshgrid(x, t)\n",
    "\n",
    "# ax.plot_surface(X, T, U, cmap='viridis')\n",
    "# ax.set_xlabel('Position (x) [m]')\n",
    "# ax.set_ylabel('Time [s]')\n",
    "# ax.set_zlabel('Concentration (u)')\n",
    "\n",
    "# # Fix the x lim to the region \n",
    "\n",
    "# ax.set_title('Concentration')\n",
    "\n",
    "# plt.show()"
   ]
  },
  {
   "cell_type": "code",
   "execution_count": 14,
   "metadata": {},
   "outputs": [
    {
     "data": {
      "text/plain": [
       "array([0.0000e+00, 1.2000e-02, 2.4000e-02, ..., 5.9976e+01, 5.9988e+01,\n",
       "       6.0000e+01])"
      ]
     },
     "execution_count": 14,
     "metadata": {},
     "output_type": "execute_result"
    }
   ],
   "source": [
    "t"
   ]
  },
  {
   "cell_type": "code",
   "execution_count": 15,
   "metadata": {},
   "outputs": [],
   "source": [
    "# import plotly.graph_objs as go\n",
    "# import plotly.express as px\n",
    "\n",
    "# # Create 3D plot\n",
    "# fig = go.Figure(data=[go.Surface(z=U, x=x, y=t, colorscale='Viridis')])\n",
    "\n",
    "# # Update plot layout\n",
    "# fig.update_layout(\n",
    "#     scene = dict(\n",
    "#         xaxis_title='Position (x)',\n",
    "#         yaxis_title='Time (t)',\n",
    "#         zaxis_title='Concentration (u)'\n",
    "#     )\n",
    "# )\n",
    "\n",
    "# fig.show()"
   ]
  },
  {
   "cell_type": "markdown",
   "metadata": {},
   "source": [
    "### Forward Euler with Matrices"
   ]
  },
  {
   "cell_type": "code",
   "execution_count": 16,
   "metadata": {},
   "outputs": [],
   "source": [
    "# # Set parameters\n",
    "# Nt_gaps = 30000    # number of timesteps\n",
    "# T = 12             # final time \n",
    "# Nt_points = Nt_gaps + 1\n",
    "# t = np.linspace(0.,T,Nt_points)  # times at each time step\n",
    "\n",
    "# Nx_spaces = 100;   # number of spaces in x\n",
    "# L = 1; \n",
    "# Nx_points = Nx_spaces + 1 \n",
    "# x = np.linspace(0, L, Nx_points)    # mesh points in space\n",
    "\n",
    "# dx = x[1] - x[0] \n",
    "# dt = t[1] - t[0]\n",
    "\n",
    "# # Check our conditions\n",
    "# C = D*dt/(dx**2)\n",
    "# A = v*dt/(2*dx)\n",
    "\n",
    "# print(\"Delta x =\", dx, \"Delta t = \", dt, \"C =\", C, \"A=\", A)"
   ]
  },
  {
   "cell_type": "code",
   "execution_count": 17,
   "metadata": {},
   "outputs": [],
   "source": [
    "# # set up matrices for single time solutions and the full solution\n",
    "# u   = np.zeros(Nx_points)\n",
    "# u_old = np.zeros(Nx_points)\n",
    "\n",
    "# U = np.zeros((Nx_points,Nt_points))\n",
    "\n",
    "# # Data structures for the linear system\n",
    "# A = np.zeros((Nx_points, Nx_points))\n",
    "# for i in range(1, Nx_points-1):\n",
    "#     A[i,i-1] = C - A\n",
    "#     A[i,i+1] = C + A\n",
    "#     A[i,i] = 1 - 2*C\n",
    "\n",
    "\n",
    "\n",
    "# # implement the (constant-in-time) Dirichlet conditions\n",
    "# A[0,0] = 1\n",
    "# A[Nx_points-1,Nx_points-1] = 1"
   ]
  }
 ],
 "metadata": {
  "kernelspec": {
   "display_name": "py312",
   "language": "python",
   "name": "python3"
  },
  "language_info": {
   "codemirror_mode": {
    "name": "ipython",
    "version": 3
   },
   "file_extension": ".py",
   "mimetype": "text/x-python",
   "name": "python",
   "nbconvert_exporter": "python",
   "pygments_lexer": "ipython3",
   "version": "3.12.5"
  }
 },
 "nbformat": 4,
 "nbformat_minor": 2
}
